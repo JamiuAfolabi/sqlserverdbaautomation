{
 "cells": [
  {
   "cell_type": "code",
   "execution_count": null,
   "source": [
    "import pyodbc\r\n",
    "import DatabaseConfig"
   ],
   "outputs": [],
   "metadata": {}
  },
  {
   "cell_type": "code",
   "execution_count": 2,
   "source": [
    "conn = pyodbc.connect(\r\n",
    "    DatabaseConfig.conn_string\r\n",
    ")\r\n",
    "\r\n",
    "cursor = conn.cursor()"
   ],
   "outputs": [
    {
     "output_type": "error",
     "ename": "InterfaceError",
     "evalue": "('28000', \"[28000] [Microsoft][ODBC Driver 17 for SQL Server][SQL Server]Login failed for user 'sa'. (18456) (SQLDriverConnect); [28000] [Microsoft][ODBC Driver 17 for SQL Server][SQL Server]Login failed for user 'sa'. (18456)\")",
     "traceback": [
      "\u001b[1;31m---------------------------------------------------------------------------\u001b[0m",
      "\u001b[1;31mInterfaceError\u001b[0m                            Traceback (most recent call last)",
      "\u001b[1;32m<ipython-input-2-5a73ec46b738>\u001b[0m in \u001b[0;36m<module>\u001b[1;34m\u001b[0m\n\u001b[1;32m----> 1\u001b[1;33m conn = pyodbc.connect(\n\u001b[0m\u001b[0;32m      2\u001b[0m     \u001b[0mDatabaseConfig\u001b[0m\u001b[1;33m.\u001b[0m\u001b[0mconn_string\u001b[0m\u001b[1;33m\u001b[0m\u001b[1;33m\u001b[0m\u001b[0m\n\u001b[0;32m      3\u001b[0m )\n\u001b[0;32m      4\u001b[0m \u001b[1;33m\u001b[0m\u001b[0m\n\u001b[0;32m      5\u001b[0m \u001b[0mcursor\u001b[0m \u001b[1;33m=\u001b[0m \u001b[0mconn\u001b[0m\u001b[1;33m.\u001b[0m\u001b[0mcursor\u001b[0m\u001b[1;33m(\u001b[0m\u001b[1;33m)\u001b[0m\u001b[1;33m\u001b[0m\u001b[1;33m\u001b[0m\u001b[0m\n",
      "\u001b[1;31mInterfaceError\u001b[0m: ('28000', \"[28000] [Microsoft][ODBC Driver 17 for SQL Server][SQL Server]Login failed for user 'sa'. (18456) (SQLDriverConnect); [28000] [Microsoft][ODBC Driver 17 for SQL Server][SQL Server]Login failed for user 'sa'. (18456)\")"
     ]
    }
   ],
   "metadata": {}
  },
  {
   "cell_type": "code",
   "execution_count": 3,
   "source": [
    "import urllib\r\n",
    "import sqlalchemy\r\n",
    "import pandas as pd\r\n",
    "import DatabaseConfig\r\n",
    "import pyodbc\r\n",
    "\r\n",
    "params = urllib.parse.quote_plus(DatabaseConfig.conn_string[0])\r\n",
    "\r\n",
    "try:\r\n",
    "\r\n",
    "    myeng = sqlalchemy.create_engine(\"mssql+pyodbc:///?odbc_connect=%s\" % params)\r\n",
    "    script = '''\r\n",
    "\r\n",
    "SELECT distinct(volume_mount_point), \r\n",
    "  total_bytes/1048576 as Size_in_MB, \r\n",
    "  available_bytes/1048576 as Free_in_MB,\r\n",
    "  (select ((available_bytes/1048576* 1.0)/(total_bytes/1048576* 1.0) *100)) as FreePercentage\r\n",
    "FROM sys.master_files AS f CROSS APPLY \r\n",
    "  sys.dm_os_volume_stats(f.database_id, f.file_id)\r\n",
    "group by volume_mount_point, total_bytes/1048576, \r\n",
    "  availabe_bytes/1048576 order by 1\r\n",
    "'''\r\n",
    "    myeng.connect()\r\n",
    "    #df= pd.read_sql(script,myeng)\r\n",
    "except sqlalchemy.exc.SQLAlchemyError as err:\r\n",
    "    print(err)\r\n",
    "finally:\r\n",
    "  try:\r\n",
    "    myeng.dispose()\r\n",
    "  finally:\r\n",
    "    pass"
   ],
   "outputs": [
    {
     "output_type": "stream",
     "name": "stdout",
     "text": [
      "(pyodbc.InterfaceError) ('28000', \"[28000] [Microsoft][ODBC Driver 17 for SQL Server][SQL Server]Login failed for user 'sa'. (18456) (SQLDriverConnect); [28000] [Microsoft][ODBC Driver 17 for SQL Server][SQL Server]Login failed for user 'sa'. (18456)\")\n",
      "(Background on this error at: http://sqlalche.me/e/13/rvf5)\n"
     ]
    }
   ],
   "metadata": {}
  },
  {
   "cell_type": "code",
   "execution_count": 1,
   "source": [
    "import DatabaseConfig\r\n",
    "import sqlalchemy\r\n",
    "import pandas as pd\r\n",
    "import sqlscripts\r\n",
    "import dataresult\r\n",
    "import convdftohtml\r\n",
    "import newSendemail\r\n",
    "\r\n",
    "\r\n",
    "df_html = []\r\n",
    "df_list=dataresult.run(sqlscripts.SCRIPTS,DatabaseConfig.conn_string)\r\n",
    "html_list = convdftohtml.run(df_list)\r\n",
    "#newSendemail.sendEmail(html_list)\r\n",
    "\r\n"
   ],
   "outputs": [
    {
     "output_type": "stream",
     "name": "stdout",
     "text": [
      "None\n"
     ]
    }
   ],
   "metadata": {}
  },
  {
   "cell_type": "code",
   "execution_count": 2,
   "source": [
    "len(df_list)"
   ],
   "outputs": [
    {
     "output_type": "execute_result",
     "data": {
      "text/plain": [
       "7"
      ]
     },
     "metadata": {},
     "execution_count": 2
    }
   ],
   "metadata": {}
  },
  {
   "cell_type": "code",
   "execution_count": 5,
   "source": [
    "print(html_list[3])"
   ],
   "outputs": [
    {
     "output_type": "stream",
     "name": "stdout",
     "text": [
      "        <html>\n",
      "            <head>\n",
      "                <style>\n",
      "                table, th, td {\n",
      "                    border: 1px solid black;\n",
      "                    border-collapse: collapse;\n",
      "                    }\n",
      "                    th, td {\n",
      "                        padding: 5px;\n",
      "                        text-align: left;    \n",
      "                    }  \n",
      "                </style>\n",
      "            </head>\n",
      "            <body>\n",
      "                <br>\n",
      "                <table border=\"1\" class=\"dataframe table table-striped\">\n",
      "  <thead>\n",
      "    <tr style=\"text-align: right;\">\n",
      "      <th>ObjectName</th>\n",
      "      <th>TextData</th>\n",
      "      <th>DiskReads</th>\n",
      "      <th>MemoryReads</th>\n",
      "      <th>Executions</th>\n",
      "      <th>TotalCPUTime</th>\n",
      "      <th>AverageCPUTime</th>\n",
      "      <th>DiskWaitAndCPUTime</th>\n",
      "      <th>MemoryWrites</th>\n",
      "      <th>DateCached</th>\n",
      "      <th>DatabaseName</th>\n",
      "      <th>LastExecutionTime</th>\n",
      "    </tr>\n",
      "  </thead>\n",
      "  <tbody>\n",
      "    <tr>\n",
      "      <td>None</td>\n",
      "      <td>\\n                SELECT distinct(volume_mount_point), \\n                total_bytes/1048576 as Size_in_MB, \\n                available_bytes/1048576 as Free_in_MB,\\n                (select ((available_bytes/1048576* 1.0)/(total_bytes/1048576* 1.0) *100)) as FreePercentage\\n                FROM sys.master_files AS f CROSS APPLY \\n                sys.dm_os_volume_stats(f.database_id, f.file_id)\\n                group by volume_mount_point, total_bytes/1048576, \\n                available_bytes/1048576 order by 1 \\n</td>\n",
      "      <td>32</td>\n",
      "      <td>4</td>\n",
      "      <td>1</td>\n",
      "      <td>17179</td>\n",
      "      <td>17179</td>\n",
      "      <td>18384</td>\n",
      "      <td>0</td>\n",
      "      <td>2022-02-03 11:18:49.580</td>\n",
      "      <td>None</td>\n",
      "      <td>2022-02-03 11:18:49.580</td>\n",
      "    </tr>\n",
      "    <tr>\n",
      "      <td>None</td>\n",
      "      <td>\\r\\ncreate procedure sys.sp_datatype_info_100\\r\\n(\\r\\n    @data_type int = 0,\\r\\n    @ODBCVer tinyint = 2\\r\\n)\\r\\nas\\r\\n    declare @mintype int\\r\\n    declare @maxtype int\\r\\n\\r\\n    set @ODBCVer = isnull(@ODBCVer, 2)\\r\\n    if @ODBCVer &lt; 3 -- includes ODBC 1.0 as well\\r\\n        set @ODBCVer = 2\\r\\n    else\\r\\n        set @ODBCVer = 3\\r\\n\\r\\n    if @data_type = 0\\r\\n    begin\\r\\n        select @mintype = -32768\\r\\n        select @maxtype = 32767\\r\\n    end\\r\\n    else\\r\\n    begin\\r\\n        select @mintype = @data_type\\r\\n        select @maxtype = @data_type\\r\\n    end\\r\\n\\r\\n    select\\r\\n        TYPE_NAME           = v.TYPE_NAME,\\r\\n        DATA_TYPE           = v.DATA_TYPE,\\r\\n        PRECISION           = v.PRECISION,\\r\\n        LITERAL_PREFIX      = v.LITERAL_PREFIX,\\r\\n        LITERAL_SUFFIX      = v.LITERAL_SUFFIX,\\r\\n        CREATE_PARAMS       = v.CREATE_PARAMS,\\r\\n        NULLABLE            = v.NULLABLE,\\r\\n        CASE_SENSITIVE      = v.CASE_SENSITIVE,\\r\\n        SEARCHABLE          = v.SEARCHABLE,\\r\\n        UNSIGNED_ATTRIBUTE  = v.UNSIGNED_ATTRIBUTE,\\r\\n        MONEY               = v.MONEY,\\r\\n        AUTO_INCREMENT      = v.AUTO_INCREMENT,\\r\\n        LOCAL_TYPE_NAME     = v.LOCAL_TYPE_NAME,\\r\\n        MINIMUM_SCALE       = v.MINIMUM_SCALE,\\r\\n        MAXIMUM_SCALE       = v.MAXIMUM_SCALE,\\r\\n        SQL_DATA_TYPE       = v.SQL_DATA_TYPE,\\r\\n        SQL_DATETIME_SUB    = v.SQL_DATETIME_SUB,\\r\\n        NUM_PREC_RADIX      = v.NUM_PREC_RADIX,\\r\\n        INTERVAL_PRECISION  = v.INTERVAL_PRECISION,\\r\\n        USERTYPE            = v.USERTYPE\\r\\n\\r\\n    from\\r\\n        sys.spt_datatype_info_view v\\r\\n\\r\\n    where\\r\\n        v.DATA_TYPE between @mintype and @maxtype and\\r\\n        v.ODBCVer = @ODBCVer\\r\\n\\r\\n    order by 2, 12, 11, 20\\r\\n</td>\n",
      "      <td>48</td>\n",
      "      <td>294</td>\n",
      "      <td>4</td>\n",
      "      <td>1483</td>\n",
      "      <td>370</td>\n",
      "      <td>3141</td>\n",
      "      <td>0</td>\n",
      "      <td>2022-02-03 11:18:49.400</td>\n",
      "      <td>None</td>\n",
      "      <td>2022-02-03 11:18:49.413</td>\n",
      "    </tr>\n",
      "    <tr>\n",
      "      <td>None</td>\n",
      "      <td>(@P1 nvarchar(1044),@P2 nvarchar(6))SELECT [INFORMATION_SCHEMA].[COLUMNS].[TABLE_SCHEMA], [INFORMATION_SCHEMA].[COLUMNS].[TABLE_NAME], [INFORMATION_SCHEMA].[COLUMNS].[COLUMN_NAME], [INFORMATION_SCHEMA].[COLUMNS].[IS_NULLABLE], [INFORMATION_SCHEMA].[COLUMNS].[DATA_TYPE], [INFORMATION_SCHEMA].[COLUMNS].[ORDINAL_POSITION], [INFORMATION_SCHEMA].[COLUMNS].[CHARACTER_MAXIMUM_LENGTH], [INFORMATION_SCHEMA].[COLUMNS].[NUMERIC_PRECISION], [INFORMATION_SCHEMA].[COLUMNS].[NUMERIC_SCALE], [INFORMATION_SCHEMA].[COLUMNS].[COLUMN_DEFAULT], [INFORMATION_SCHEMA].[COLUMNS].[COLLATION_NAME] \\nFROM [INFORMATION_SCHEMA].[COLUMNS] \\nWHERE [INFORMATION_SCHEMA].[COLUMNS].[TABLE_NAME] = CAST(@P1 AS NVARCHAR(max)) AND [INFORMATION_SCHEMA].[COLUMNS].[TABLE_SCHEMA] = CAST(@P2 AS NVARCHAR(max))</td>\n",
      "      <td>14</td>\n",
      "      <td>2</td>\n",
      "      <td>1</td>\n",
      "      <td>243</td>\n",
      "      <td>243</td>\n",
      "      <td>530</td>\n",
      "      <td>0</td>\n",
      "      <td>2022-02-03 11:18:49.537</td>\n",
      "      <td>None</td>\n",
      "      <td>2022-02-03 11:18:49.550</td>\n",
      "    </tr>\n",
      "    <tr>\n",
      "      <td>None</td>\n",
      "      <td>(@P1 nvarchar(394),@P2 nvarchar(6))SELECT [INFORMATION_SCHEMA].[COLUMNS].[TABLE_SCHEMA], [INFORMATION_SCHEMA].[COLUMNS].[TABLE_NAME], [INFORMATION_SCHEMA].[COLUMNS].[COLUMN_NAME], [INFORMATION_SCHEMA].[COLUMNS].[IS_NULLABLE], [INFORMATION_SCHEMA].[COLUMNS].[DATA_TYPE], [INFORMATION_SCHEMA].[COLUMNS].[ORDINAL_POSITION], [INFORMATION_SCHEMA].[COLUMNS].[CHARACTER_MAXIMUM_LENGTH], [INFORMATION_SCHEMA].[COLUMNS].[NUMERIC_PRECISION], [INFORMATION_SCHEMA].[COLUMNS].[NUMERIC_SCALE], [INFORMATION_SCHEMA].[COLUMNS].[COLUMN_DEFAULT], [INFORMATION_SCHEMA].[COLUMNS].[COLLATION_NAME] \\nFROM [INFORMATION_SCHEMA].[COLUMNS] \\nWHERE [INFORMATION_SCHEMA].[COLUMNS].[TABLE_NAME] = CAST(@P1 AS NVARCHAR(max)) AND [INFORMATION_SCHEMA].[COLUMNS].[TABLE_SCHEMA] = CAST(@P2 AS NVARCHAR(max))</td>\n",
      "      <td>0</td>\n",
      "      <td>2</td>\n",
      "      <td>1</td>\n",
      "      <td>192</td>\n",
      "      <td>192</td>\n",
      "      <td>192</td>\n",
      "      <td>0</td>\n",
      "      <td>2022-02-03 11:18:49.970</td>\n",
      "      <td>None</td>\n",
      "      <td>2022-02-03 11:18:49.983</td>\n",
      "    </tr>\n",
      "    <tr>\n",
      "      <td>None</td>\n",
      "      <td>(@P1 nvarchar(2110),@P2 nvarchar(6))SELECT [INFORMATION_SCHEMA].[COLUMNS].[TABLE_SCHEMA], [INFORMATION_SCHEMA].[COLUMNS].[TABLE_NAME], [INFORMATION_SCHEMA].[COLUMNS].[COLUMN_NAME], [INFORMATION_SCHEMA].[COLUMNS].[IS_NULLABLE], [INFORMATION_SCHEMA].[COLUMNS].[DATA_TYPE], [INFORMATION_SCHEMA].[COLUMNS].[ORDINAL_POSITION], [INFORMATION_SCHEMA].[COLUMNS].[CHARACTER_MAXIMUM_LENGTH], [INFORMATION_SCHEMA].[COLUMNS].[NUMERIC_PRECISION], [INFORMATION_SCHEMA].[COLUMNS].[NUMERIC_SCALE], [INFORMATION_SCHEMA].[COLUMNS].[COLUMN_DEFAULT], [INFORMATION_SCHEMA].[COLUMNS].[COLLATION_NAME] \\nFROM [INFORMATION_SCHEMA].[COLUMNS] \\nWHERE [INFORMATION_SCHEMA].[COLUMNS].[TABLE_NAME] = CAST(@P1 AS NVARCHAR(max)) AND [INFORMATION_SCHEMA].[COLUMNS].[TABLE_SCHEMA] = CAST(@P2 AS NVARCHAR(max))</td>\n",
      "      <td>0</td>\n",
      "      <td>2</td>\n",
      "      <td>1</td>\n",
      "      <td>143</td>\n",
      "      <td>143</td>\n",
      "      <td>144</td>\n",
      "      <td>0</td>\n",
      "      <td>2022-02-03 11:18:49.990</td>\n",
      "      <td>None</td>\n",
      "      <td>2022-02-03 11:18:50.000</td>\n",
      "    </tr>\n",
      "    <tr>\n",
      "      <td>None</td>\n",
      "      <td>(@P1 nvarchar(126),@P2 nvarchar(6))SELECT [INFORMATION_SCHEMA].[COLUMNS].[TABLE_SCHEMA], [INFORMATION_SCHEMA].[COLUMNS].[TABLE_NAME], [INFORMATION_SCHEMA].[COLUMNS].[COLUMN_NAME], [INFORMATION_SCHEMA].[COLUMNS].[IS_NULLABLE], [INFORMATION_SCHEMA].[COLUMNS].[DATA_TYPE], [INFORMATION_SCHEMA].[COLUMNS].[ORDINAL_POSITION], [INFORMATION_SCHEMA].[COLUMNS].[CHARACTER_MAXIMUM_LENGTH], [INFORMATION_SCHEMA].[COLUMNS].[NUMERIC_PRECISION], [INFORMATION_SCHEMA].[COLUMNS].[NUMERIC_SCALE], [INFORMATION_SCHEMA].[COLUMNS].[COLUMN_DEFAULT], [INFORMATION_SCHEMA].[COLUMNS].[COLLATION_NAME] \\nFROM [INFORMATION_SCHEMA].[COLUMNS] \\nWHERE [INFORMATION_SCHEMA].[COLUMNS].[TABLE_NAME] = CAST(@P1 AS NVARCHAR(max)) AND [INFORMATION_SCHEMA].[COLUMNS].[TABLE_SCHEMA] = CAST(@P2 AS NVARCHAR(max))</td>\n",
      "      <td>0</td>\n",
      "      <td>2</td>\n",
      "      <td>1</td>\n",
      "      <td>123</td>\n",
      "      <td>123</td>\n",
      "      <td>123</td>\n",
      "      <td>0</td>\n",
      "      <td>2022-02-03 11:18:49.603</td>\n",
      "      <td>None</td>\n",
      "      <td>2022-02-03 11:18:49.613</td>\n",
      "    </tr>\n",
      "    <tr>\n",
      "      <td>None</td>\n",
      "      <td>create procedure sys.sp_help_log_shipping_monitor\\r\\n(\\r\\n    @verbose bit = 0\\r\\n)\\r\\nas\\r\\nbegin\\r\\n    set nocount on\\r\\n    declare @retcode int\\r\\n                ,@primary_id uniqueidentifier\\r\\n                ,@primary_server sysname\\r\\n                ,@primary_database sysname\\r\\n                ,@time_since_last_backup int\\r\\n                ,@last_backup_utc datetime\\r\\n                ,@last_backup_file nvarchar(500)\\r\\n                ,@backup_threshold int\\r\\n                ,@is_backup_alert_enabled bit\\r\\n\\r\\n                ,@secondary_id uniqueidentifier\\r\\n                ,@secondary_server sysname\\r\\n                ,@secondary_database sysname\\r\\n                ,@restore_threshold int\\r\\n                ,@is_restore_alert_enabled bit\\r\\n                ,@last_copied_file nvarchar(500)\\r\\n                ,@last_copied_utc datetime\\r\\n                ,@time_since_last_copy int\\r\\n                ,@last_restored_file nvarchar(500)\\r\\n                ,@last_restored_utc datetime\\r\\n                ,@time_since_last_restore int\\r\\n                ,@last_restored_latency int\\r\\n\\r\\n                ,@prev_primary_server sysname\\r\\n                ,@prev_primary_database sysname\\r\\n\\r\\n                ,@monitor_server sysname\\r\\n                ,@monitor_server_security_mode int\\r\\n                ,@is_monitor_local bit\\r\\n                ,@curutcdate datetime\\r\\n                ,@linkcmd nvarchar(4000)\\r\\n\\r\\n    --\\r\\n    -- security check\\r\\n    --\\r\\n    exec @retcode = sys.sp_MSlogshippingsysadmincheck\\r\\n    if (@retcode != 0 or @@error != 0)\\r\\n        return 1\\r\\n    --\\r\\n    -- must be invoked from master db\\r\\n    --\\r\\n    if (db_name() != N'master')\\r\\n    begin\\r\\n        raiserror(5001, 16,-1)\\r\\n        return 1\\r\\n    end\\r\\n    --\\r\\n    -- create the resultset table\\r\\n    --\\r\\n    create table #log_shipping_monitor\\r\\n    (\\r\\n        status bit null\\r\\n        ,is_primary bit not null default 0\\r\\n        ,server sysname\\r\\n        ,database_name sysname\\r\\n        ,time_since_last_backup int null\\r\\n        ,last_backup_file nvarchar(500) null\\r\\n        ,backup_threshold int null\\r\\n        ,is_backup_alert_enabled bit null\\r\\n        ,time_since_last_copy int null\\r\\n        ,last_copied_file nvarchar(500) null\\r\\n        ,time_since_last_restore int null\\r\\n        ,last_restored_file nvarchar(500) null\\r\\n        ,last_restored_latency int null\\r\\n        ,restore_threshold int null\\r\\n        ,is_restore_alert_enabled bit null\\r\\n        ,ts timestamp not null\\r\\n        ,primary key (is_primary, server, database_name)\\r\\n        ,unique (ts)\\r\\n    )\\r\\n    if (@@error != 0)\\r\\n        return 1\\r\\n    --\\r\\n    -- create other tables we will use\\r\\n    --\\r\\n    create table #secondary_monitor\\r\\n    (\\r\\n        secondary_server sysname not null,\\r\\n        secondary_database sysname not null,\\r\\n        secondary_id uniqueidentifier not null,\\r\\n        primary_server sysname not null,\\r\\n        primary_database sysname not null,\\r\\n        restore_threshold int not null,\\r\\n        threshold_alert int not null,\\r\\n        threshold_alert_enabled bit not null,\\r\\n        last_copied_file nvarchar(500) null,\\r\\n        last_copied_date datetime null,\\r\\n        last_copied_date_utc datetime null,\\r\\n        last_restored_file nvarchar(500) null,\\r\\n        last_restored_date datetime null,\\r\\n        last_restored_date_utc datetime null,\\r\\n        last_restored_latency int null,\\r\\n        history_retention_period int not null,\\r\\n        primary key (secondary_id, secondary_database)\\r\\n    )\\r\\n    if (@@error != 0)\\r\\n        return 1\\r\\n    create table #primary_monitor\\r\\n    (\\r\\n        primary_id uniqueidentifier primary key not null,\\r\\n        primary_server sysname not null,\\r\\n        primary_database sysname not null,\\r\\n        backup_threshold int not null,\\r\\n        threshold_alert int not null,\\r\\n        threshold_alert_enabled bit not null,\\r\\n        last_backup_file nvarchar(500) null,\\r\\n        last_backup_date datetime null,\\r\\n        last_backup_date_utc datetime null,\\r\\n        history_retention_period int not null,\\r\\n        unique (primary_server, primary_database)\\r\\n    )\\r\\n    if (@@error != 0)\\r\\n        return 1\\r\\n    --\\r\\n    -- get current time\\r\\n    --\\r\\n    select @curutcdate = getutcdate()\\r\\n    --\\r\\n    -- Enumerate the primary entries\\r\\n    --\\r\\n    declare #hcprimaries cursor local fast_forward for\\r\\n        select\\r\\n            primary_id\\r\\n            ,primary_server\\r\\n            ,primary_database\\r\\n            ,backup_threshold\\r\\n            ,threshold_alert_enabled\\r\\n            ,last_backup_file\\r\\n            ,last_backup_date_utc\\r\\n        from msdb.dbo.log_shipping_monitor_primary with (nolock)\\r\\n        order by primary_server, primary_database\\r\\n\\r\\n    open #hcprimaries\\r\\n    fetch #hcprimaries into @primary_id, @primary_server, @primary_database, @backup_threshold, @is_backup_alert_enabled, @last_backup_file, @last_backup_utc\\r\\n    while (@@fetch_status != -1)\\r\\n    begin\\r\\n        --\\r\\n        -- we have a primary entry\\r\\n        --\\r\\n        select @time_since_last_backup = datediff(minute, @last_backup_utc, @curutcdate)\\r\\n        insert into #log_shipping_monitor (\\r\\n            status\\r\\n            ,is_primary\\r\\n            ,server\\r\\n            ,database_name\\r\\n            ,time_since_last_backup\\r\\n            ,last_backup_file\\r\\n            ,backup_threshold\\r\\n            ,is_backup_alert_enabled)\\r\\n        values (\\r\\n            case when ( @time_since_last_backup &gt; @backup_threshold) then 1 else 0 end\\r\\n            ,1\\r\\n            ,@primary_server\\r\\n            ,@primary_database\\r\\n            ,@time_since_last_backup\\r\\n            ,@last_backup_file\\r\\n            ,@backup_threshold\\r\\n            ,@is_backup_alert_enabled)\\r\\n        --\\r\\n        -- process secondaries\\r\\n        --\\r\\n        if (upper(@primary_server) = upper(@@servername))\\r\\n        begin\\r\\n            --\\r\\n            -- we are on primary server\\r\\n            -- get monitor server information\\r\\n            --\\r\\n            select @monitor_server = monitor_server\\r\\n                        ,@monitor_server_security_mode = monitor_server_security_mode\\r\\n            from msdb.dbo.log_shipping_primary_databases\\r\\n            where primary_id = @primary_id\\r\\n            select @is_monitor_local = case when (upper(@monitor_server) = upper(@@servername)) then 1 else 0 end\\r\\n            --\\r\\n            -- enumerate the secondaries listed on primary\\r\\n            --\\r\\n            declare #hcprimarysecondaries cursor local fast_forward for\\r\\n                select secondary_server, secondary_database\\r\\n                from msdb.dbo.log_shipping_primary_secondaries with (nolock)\\r\\n                where primary_id = @primary_id\\r\\n\\r\\n            open #hcprimarysecondaries\\r\\n            fetch #hcprimarysecondaries into @secondary_server, @secondary_database\\r\\n            while (@@fetch_status != -1)\\r\\n            begin\\r\\n                --\\r\\n                -- add this primary secondary to result set\\r\\n                --\\r\\n                insert into #log_shipping_monitor (is_primary ,server, database_name)\\r\\n                    values (0, @secondary_server, @secondary_database)\\r\\n                select @secondary_id = NULL\\r\\n                --\\r\\n                -- Enumerate this secondary from msdb.dbo.log_shipping_monitor_secondary\\r\\n                --\\r\\n                if (@is_monitor_local = 1)\\r\\n                begin\\r\\n                    --\\r\\n                    -- local monitor\\r\\n                    --\\r\\n                    select\\r\\n                        @secondary_id = secondary_id\\r\\n                        ,@restore_threshold = restore_threshold\\r\\n                        ,@is_restore_alert_enabled = threshold_alert_enabled\\r\\n                        ,@last_copied_file = last_copied_file\\r\\n                        ,@last_copied_utc = last_copied_date_utc\\r\\n                        ,@last_restored_file = last_restored_file\\r\\n                        ,@last_restored_utc = last_restored_date_utc\\r\\n                        ,@last_restored_latency = last_restored_latency\\r\\n                    from msdb.dbo.log_shipping_monitor_secondary\\r\\n                    where primary_server = upper(@primary_server)\\r\\n                        and primary_database = @primary_database\\r\\n                        and secondary_server = upper(@secondary_server)\\r\\n                        and secondary_database = @secondary_database\\r\\n                end -- local monitor\\r\\n                else\\r\\n                begin\\r\\n                    --\\r\\n                    -- remote monitor\\r\\n                    --\\r\\n                    if (@monitor_server_security_mode = 0) and (suser_name() != SUSER_SNAME(0x01))\\r\\n                    begin\\r\\n                        --\\r\\n                        -- execute as proxy\\r\\n                        --\\r\\n                        exec @retcode = sys.sp_MSproxylogshippingmonitorhelpsecondary\\r\\n                                @monitor_server = @monitor_server\\r\\n                                ,@p1 = @primary_server\\r\\n                                ,@p2 = @primary_database\\r\\n                                ,@p3 = @secondary_server\\r\\n                                ,@p4 = @secondary_database\\r\\n                                ,@p5 = @secondary_id output\\r\\n                                ,@p6 = @restore_threshold output\\r\\n                                ,@p7 = @is_restore_alert_enabled output\\r\\n                                ,@p8 = @last_copied_file output\\r\\n                                ,@p9 = @last_copied_utc output\\r\\n                                ,@p10 = @last_restored_file output\\r\\n                                ,@p11 = @last_restored_utc output\\r\\n                                ,@p12 = @last_restored_latency output\\r\\n                    end\\r\\n                    else\\r\\n                    begin\\r\\n                        delete #secondary_monitor\\r\\n                        select @linkcmd = quotename(sys.fn_MSgetlogshippingmoniterlinkname(upper(@monitor_server))) + N'.master.sys.sp_help_log_shipping_monitor_secondary '\\r\\n                                ,@retcode = 0\\r\\n                        begin try\\r\\n                            insert into #secondary_monitor\\r\\n                            exec @retcode = @linkcmd\\r\\n                                        @secondary_server = @secondary_server\\r\\n                                        ,@secondary_database = @secondary_database\\r\\n                        end try\\r\\n                        begin catch\\r\\n                            select @retcode = 1\\r\\n                                    ,@secondary_id = NULL\\r\\n                        end catch\\r\\n\\r\\n                        if (@retcode = 0)\\r\\n                        begin\\r\\n                            select @secondary_id = secondary_id\\r\\n                                    ,@restore_threshold = restore_threshold\\r\\n                                    ,@is_restore_alert_enabled = threshold_alert_enabled\\r\\n                                    ,@last_copied_file = last_copied_file\\r\\n                                    ,@last_copied_utc = last_copied_date_utc\\r\\n                                    ,@last_restored_file = last_restored_file\\r\\n                                    ,@last_restored_utc = last_restored_date_utc\\r\\n                                    ,@last_restored_latency = last_restored_latency\\r\\n                            from #secondary_monitor\\r\\n                            where upper(primary_server) = upper(@primary_server)\\r\\n                                and primary_database = @primary_database\\r\\n                        end\\r\\n                        else\\r\\n                        begin\\r\\n                            raiserror(32031, 10, 1, @secondary_server, @secondary_database, @monitor_server)\\r\\n                        end\\r\\n                    end\\r\\n                end -- remote monitor\\r\\n                --\\r\\n                -- do we have data on this secondary\\r\\n                --\\r\\n                if (@secondary_id is not null)\\r\\n                begin\\r\\n                    --\\r\\n                    -- yes we do - update the entry\\r\\n                    --\\r\\n                    select @time_since_last_copy = datediff(minute, @last_copied_utc, @curutcdate)\\r\\n                            ,@time_since_last_restore = datediff(minute, @last_restored_utc, @curutcdate)\\r\\n                    update #log_shipping_monitor\\r\\n                    set\\r\\n                        status = case when (@time_since_last_restore &gt; @restore_threshold or @last_restored_latency &gt; @restore_threshold) then 1 else 0 end\\r\\n                        ,time_since_last_copy = @time_since_last_copy\\r\\n                        ,last_copied_file = @last_copied_file\\r\\n                        ,time_since_last_restore = @time_since_last_restore\\r\\n                        ,last_restored_file = @last_restored_file\\r\\n                        ,last_restored_latency = @last_restored_latency\\r\\n                        ,restore_threshold = @restore_threshold\\r\\n                        ,is_restore_alert_enabled = @is_restore_alert_enabled\\r\\n                    where upper(server) = upper(@secondary_server)\\r\\n                        and database_name = @secondary_database\\r\\n                end -- update secondary data\\r\\n                --\\r\\n                -- fetch next primary secondary\\r\\n                --\\r\\n                fetch #hcprimarysecondaries into @secondary_server, @secondary_database\\r\\n            end\\r\\n            close #hcprimarysecondaries\\r\\n            deallocate #hcprimarysecondaries\\r\\n        end -- we are on primary server processing primaries\\r\\n        else\\r\\n        begin\\r\\n            --\\r\\n            -- we are on monitor server\\r\\n            -- get details of the secondaries from msdb.dbo.log_shipping_monitor_secondary\\r\\n            -- if the same monitor is being used by secondaries\\r\\n            --\\r\\n            insert into #log_shipping_monitor (\\r\\n                status\\r\\n                ,is_primary\\r\\n                ,server\\r\\n                ,database_name\\r\\n                ,time_since_last_copy\\r\\n                ,last_copied_file\\r\\n                ,time_since_last_restore\\r\\n                ,last_restored_file\\r\\n                ,last_restored_latency\\r\\n                ,restore_threshold\\r\\n                ,is_restore_alert_enabled)\\r\\n            select\\r\\n                case when (datediff(minute, last_restored_date_utc, @curutcdate) &gt; restore_threshold\\r\\n                                        or last_restored_latency &gt; restore_threshold) then 1 else 0 end\\r\\n                ,0\\r\\n                ,secondary_server\\r\\n                ,secondary_database\\r\\n                ,datediff(minute, last_copied_date_utc, @curutcdate)\\r\\n                ,last_copied_file\\r\\n                ,datediff(minute, last_restored_date_utc, @curutcdate)\\r\\n                ,last_restored_file\\r\\n                ,last_restored_latency\\r\\n                ,restore_threshold\\r\\n                ,threshold_alert_enabled\\r\\n            from msdb.dbo.log_shipping_monitor_secondary with (nolock)\\r\\n            where primary_server = upper(@primary_server)\\r\\n                and primary_database = @primary_database\\r\\n\\r\\n        end -- we are on monitor server processing primaries\\r\\n        fetch #hcprimaries into @primary_id, @primary_server, @primary_database, @backup_threshold, @is_backup_alert_enabled, @last_backup_file, @last_backup_utc\\r\\n    end -- while cursor for hcprimaries\\r\\n    close #hcprimaries\\r\\n    deallocate #hcprimaries\\r\\n    --\\r\\n    -- Enumerate the secondary entries\\r\\n    -- minus existing secondary entries in resultset\\r\\n    --\\r\\n    declare #hcsecondaries cursor local fast_forward for\\r\\n        select\\r\\n            secondary_server\\r\\n            ,secondary_database\\r\\n            ,secondary_id uniqueidentifier\\r\\n            ,primary_server\\r\\n            ,primary_database\\r\\n            ,restore_threshold\\r\\n            ,threshold_alert_enabled\\r\\n            ,last_copied_file\\r\\n            ,last_copied_date_utc\\r\\n            ,last_restored_file\\r\\n            ,last_restored_date_utc\\r\\n            ,last_restored_latency\\r\\n        from msdb.dbo.log_shipping_monitor_secondary with (nolock)\\r\\n        where not exists (select * from #log_shipping_monitor\\r\\n                                where upper(server) = upper(secondary_server)\\r\\n                                    and database_name = secondary_database\\r\\n                                    and is_primary = 0)\\r\\n        order by primary_server, primary_database\\r\\n\\r\\n    open #hcsecondaries\\r\\n    fetch #hcsecondaries into @secondary_server, @secondary_database, @secondary_id,\\r\\n                @primary_server, @primary_database, @restore_threshold, @is_restore_alert_enabled,\\r\\n                @last_copied_file, @last_copied_utc, @last_restored_file, @last_restored_utc, @last_restored_latency\\r\\n    while (@@fetch_status != -1)\\r\\n    begin\\r\\n        --\\r\\n        -- Have we processed the primary for this secondary\\r\\n        --\\r\\n        if not (upper(@primary_server) = upper(@prev_primary_server)\\r\\n            and @primary_database = @prev_primary_database)\\r\\n        begin\\r\\n            --\\r\\n            -- No - Try to get the details of this primary\\r\\n            --\\r\\n            select @primary_id = null\\r\\n            if (upper(@secondary_server) = upper(@@servername))\\r\\n            begin\\r\\n                --\\r\\n                -- we are on secondary\\r\\n                -- get monitor server information\\r\\n                --\\r\\n                select @monitor_server = monitor_server\\r\\n                        ,@monitor_server_security_mode = monitor_server_security_mode\\r\\n                from msdb.dbo.log_shipping_secondary with (nolock)\\r\\n                where secondary_id = @secondary_id\\r\\n                select @is_monitor_local = case when (upper(@monitor_server) = upper(@@servername)) then 1 else 0 end\\r\\n                if (@is_monitor_local = 1)\\r\\n                begin\\r\\n                    --\\r\\n                    -- local monitor\\r\\n                    --\\r\\n                    select @primary_id = primary_id\\r\\n                        ,@backup_threshold = backup_threshold\\r\\n                        ,@is_backup_alert_enabled = threshold_alert_enabled\\r\\n                        ,@last_backup_file = last_backup_file\\r\\n                        ,@last_backup_utc = last_backup_date_utc\\r\\n                    from msdb.dbo.log_shipping_monitor_primary with (nolock)\\r\\n                    where primary_server = upper(@primary_server)\\r\\n                        and primary_database = @primary_database\\r\\n                end\\r\\n                else\\r\\n                begin\\r\\n                    --\\r\\n                    -- remote monitor\\r\\n                    --\\r\\n                    if (@monitor_server_security_mode = 0) and (suser_name() != SUSER_SNAME(0x01))\\r\\n                    begin\\r\\n                        --\\r\\n                        -- execute as proxy\\r\\n                        --\\r\\n                        exec @retcode = sys.sp_MSproxylogshippingmonitorhelpprimary\\r\\n                                @monitor_server = @monitor_server\\r\\n                                ,@p1 = @primary_server\\r\\n                                ,@p2 = @primary_database\\r\\n                                ,@p3 = @primary_id output\\r\\n                                ,@p4 = @backup_threshold output\\r\\n                                ,@p5 = @is_backup_alert_enabled output\\r\\n                                ,@p6 = @last_backup_file output\\r\\n                                ,@p7 = @last_backup_utc output\\r\\n                    end\\r\\n                    else\\r\\n                    begin\\r\\n                        delete #primary_monitor\\r\\n                        select @linkcmd = quotename(sys.fn_MSgetlogshippingmoniterlinkname(upper(@monitor_server))) + N'.master.sys.sp_help_log_shipping_monitor_primary '\\r\\n                                ,@retcode = 0\\r\\n                        begin try\\r\\n                            insert into #primary_monitor\\r\\n                            exec @retcode = @linkcmd\\r\\n                                        @primary_server = @primary_server\\r\\n                                        ,@primary_database = @primary_database\\r\\n                        end try\\r\\n                        begin catch\\r\\n                            select @retcode = 1\\r\\n                                    ,@primary_id = NULL\\r\\n                        end catch\\r\\n\\r\\n                        if (@retcode = 0)\\r\\n                        begin\\r\\n                            select @primary_id = primary_id\\r\\n                                    ,@backup_threshold = backup_threshold\\r\\n                                    ,@is_backup_alert_enabled = threshold_alert_enabled\\r\\n                                    ,@last_backup_file = last_backup_file\\r\\n                                    ,@last_backup_utc = last_backup_date_utc\\r\\n                            from #primary_monitor\\r\\n                        end\\r\\n                        else\\r\\n                        begin\\r\\n                            raiserror(32030, 10, 1, @primary_server, @primary_database, @monitor_server)\\r\\n                        end\\r\\n                    end -- processing remote\\r\\n                end\\r\\n            end -- processing on secondary\\r\\n            else\\r\\n            begin\\r\\n                --\\r\\n                -- we are on monitor server\\r\\n                --\\r\\n                select @primary_id = primary_id\\r\\n                    ,@backup_threshold = backup_threshold\\r\\n                    ,@is_backup_alert_enabled = threshold_alert_enabled\\r\\n                    ,@last_backup_file = last_backup_file\\r\\n                    ,@last_backup_utc = last_backup_date_utc\\r\\n                from msdb.dbo.log_shipping_monitor_primary with (nolock)\\r\\n                where primary_server = upper(@primary_server)\\r\\n                    and primary_database = @primary_database\\r\\n            end -- processing on monitor server\\r\\n            --\\r\\n            -- insert primary details if available\\r\\n            --\\r\\n            if (@primary_id is not null)\\r\\n            begin\\r\\n                select @prev_primary_server = @primary_server\\r\\n                        ,@prev_primary_database = @primary_database\\r\\n                        ,@time_since_last_backup = datediff(minute, @last_backup_utc, @curutcdate)\\r\\n                insert into #log_shipping_monitor (\\r\\n                    status\\r\\n                    ,is_primary\\r\\n                    ,server\\r\\n                    ,database_name\\r\\n                    ,time_since_last_backup\\r\\n                    ,last_backup_file\\r\\n                    ,backup_threshold\\r\\n                    ,is_backup_alert_enabled)\\r\\n                values (\\r\\n                    case when ( @time_since_last_backup &gt; @backup_threshold) then 1 else 0 end\\r\\n                    ,1\\r\\n                    ,@primary_server\\r\\n                    ,@primary_database\\r\\n                    ,@time_since_last_backup\\r\\n                    ,@last_backup_file\\r\\n                    ,@backup_threshold\\r\\n                    ,@is_backup_alert_enabled)\\r\\n            end -- primary data available\\r\\n        end -- process the primary\\r\\n        --\\r\\n        -- Insert the secondary\\r\\n        --\\r\\n        select @time_since_last_copy = datediff(minute, @last_copied_utc, @curutcdate)\\r\\n                ,@time_since_last_restore = datediff(minute, @last_restored_utc, @curutcdate)\\r\\n        insert into #log_shipping_monitor (\\r\\n            status\\r\\n            ,is_primary\\r\\n            ,server\\r\\n            ,database_name\\r\\n            ,time_since_last_copy\\r\\n            ,last_copied_file\\r\\n            ,time_since_last_restore\\r\\n            ,last_restored_file\\r\\n            ,last_restored_latency\\r\\n            ,restore_threshold\\r\\n            ,is_restore_alert_enabled)\\r\\n        values (\\r\\n            case when (@time_since_last_restore &gt; @restore_threshold or @last_restored_latency &gt; @restore_threshold) then 1 else 0 end\\r\\n            ,0\\r\\n            ,@secondary_server\\r\\n            ,@secondary_database\\r\\n            ,@time_since_last_copy\\r\\n            ,@last_copied_file\\r\\n            ,@time_since_last_restore\\r\\n            ,@last_restored_file\\r\\n            ,@last_restored_latency\\r\\n            ,@restore_threshold\\r\\n            ,@is_restore_alert_enabled)\\r\\n        --\\r\\n        -- get the next secondary\\r\\n        --\\r\\n        fetch #hcsecondaries into @secondary_server, @secondary_database, @secondary_id,\\r\\n                    @primary_server, @primary_database, @restore_threshold, @is_restore_alert_enabled,\\r\\n                    @last_copied_file, @last_copied_utc, @last_restored_file, @last_restored_utc, @last_restored_latency\\r\\n    end -- while cursor for hcsecondaries\\r\\n    close #hcsecondaries\\r\\n    deallocate #hcsecondaries\\r\\n    --\\r\\n    -- return resultset\\r\\n    --\\r\\n    select\\r\\n        status\\r\\n        ,is_primary\\r\\n        ,server\\r\\n        ,database_name\\r\\n        ,time_since_last_backup\\r\\n        ,last_backup_file\\r\\n        ,backup_threshold\\r\\n        ,is_backup_alert_enabled\\r\\n        ,time_since_last_copy\\r\\n        ,last_copied_file\\r\\n        ,time_since_last_restore\\r\\n        ,last_restored_file\\r\\n        ,last_restored_latency\\r\\n        ,restore_threshold\\r\\n        ,is_restore_alert_enabled\\r\\n    from #log_shipping_monitor\\r\\n    order by ts\\r\\n    --\\r\\n    -- all done\\r\\n    --\\r\\n    return 0\\r\\nend\\r\\n</td>\n",
      "      <td>0</td>\n",
      "      <td>0</td>\n",
      "      <td>1</td>\n",
      "      <td>73</td>\n",
      "      <td>73</td>\n",
      "      <td>73</td>\n",
      "      <td>0</td>\n",
      "      <td>2022-02-03 11:18:49.960</td>\n",
      "      <td>None</td>\n",
      "      <td>2022-02-03 11:18:49.963</td>\n",
      "    </tr>\n",
      "    <tr>\n",
      "      <td>None</td>\n",
      "      <td>create procedure sys.sp_help_log_shipping_monitor\\r\\n(\\r\\n    @verbose bit = 0\\r\\n)\\r\\nas\\r\\nbegin\\r\\n    set nocount on\\r\\n    declare @retcode int\\r\\n                ,@primary_id uniqueidentifier\\r\\n                ,@primary_server sysname\\r\\n                ,@primary_database sysname\\r\\n                ,@time_since_last_backup int\\r\\n                ,@last_backup_utc datetime\\r\\n                ,@last_backup_file nvarchar(500)\\r\\n                ,@backup_threshold int\\r\\n                ,@is_backup_alert_enabled bit\\r\\n\\r\\n                ,@secondary_id uniqueidentifier\\r\\n                ,@secondary_server sysname\\r\\n                ,@secondary_database sysname\\r\\n                ,@restore_threshold int\\r\\n                ,@is_restore_alert_enabled bit\\r\\n                ,@last_copied_file nvarchar(500)\\r\\n                ,@last_copied_utc datetime\\r\\n                ,@time_since_last_copy int\\r\\n                ,@last_restored_file nvarchar(500)\\r\\n                ,@last_restored_utc datetime\\r\\n                ,@time_since_last_restore int\\r\\n                ,@last_restored_latency int\\r\\n\\r\\n                ,@prev_primary_server sysname\\r\\n                ,@prev_primary_database sysname\\r\\n\\r\\n                ,@monitor_server sysname\\r\\n                ,@monitor_server_security_mode int\\r\\n                ,@is_monitor_local bit\\r\\n                ,@curutcdate datetime\\r\\n                ,@linkcmd nvarchar(4000)\\r\\n\\r\\n    --\\r\\n    -- security check\\r\\n    --\\r\\n    exec @retcode = sys.sp_MSlogshippingsysadmincheck\\r\\n    if (@retcode != 0 or @@error != 0)\\r\\n        return 1\\r\\n    --\\r\\n    -- must be invoked from master db\\r\\n    --\\r\\n    if (db_name() != N'master')\\r\\n    begin\\r\\n        raiserror(5001, 16,-1)\\r\\n        return 1\\r\\n    end\\r\\n    --\\r\\n    -- create the resultset table\\r\\n    --\\r\\n    create table #log_shipping_monitor\\r\\n    (\\r\\n        status bit null\\r\\n        ,is_primary bit not null default 0\\r\\n        ,server sysname\\r\\n        ,database_name sysname\\r\\n        ,time_since_last_backup int null\\r\\n        ,last_backup_file nvarchar(500) null\\r\\n        ,backup_threshold int null\\r\\n        ,is_backup_alert_enabled bit null\\r\\n        ,time_since_last_copy int null\\r\\n        ,last_copied_file nvarchar(500) null\\r\\n        ,time_since_last_restore int null\\r\\n        ,last_restored_file nvarchar(500) null\\r\\n        ,last_restored_latency int null\\r\\n        ,restore_threshold int null\\r\\n        ,is_restore_alert_enabled bit null\\r\\n        ,ts timestamp not null\\r\\n        ,primary key (is_primary, server, database_name)\\r\\n        ,unique (ts)\\r\\n    )\\r\\n    if (@@error != 0)\\r\\n        return 1\\r\\n    --\\r\\n    -- create other tables we will use\\r\\n    --\\r\\n    create table #secondary_monitor\\r\\n    (\\r\\n        secondary_server sysname not null,\\r\\n        secondary_database sysname not null,\\r\\n        secondary_id uniqueidentifier not null,\\r\\n        primary_server sysname not null,\\r\\n        primary_database sysname not null,\\r\\n        restore_threshold int not null,\\r\\n        threshold_alert int not null,\\r\\n        threshold_alert_enabled bit not null,\\r\\n        last_copied_file nvarchar(500) null,\\r\\n        last_copied_date datetime null,\\r\\n        last_copied_date_utc datetime null,\\r\\n        last_restored_file nvarchar(500) null,\\r\\n        last_restored_date datetime null,\\r\\n        last_restored_date_utc datetime null,\\r\\n        last_restored_latency int null,\\r\\n        history_retention_period int not null,\\r\\n        primary key (secondary_id, secondary_database)\\r\\n    )\\r\\n    if (@@error != 0)\\r\\n        return 1\\r\\n    create table #primary_monitor\\r\\n    (\\r\\n        primary_id uniqueidentifier primary key not null,\\r\\n        primary_server sysname not null,\\r\\n        primary_database sysname not null,\\r\\n        backup_threshold int not null,\\r\\n        threshold_alert int not null,\\r\\n        threshold_alert_enabled bit not null,\\r\\n        last_backup_file nvarchar(500) null,\\r\\n        last_backup_date datetime null,\\r\\n        last_backup_date_utc datetime null,\\r\\n        history_retention_period int not null,\\r\\n        unique (primary_server, primary_database)\\r\\n    )\\r\\n    if (@@error != 0)\\r\\n        return 1\\r\\n    --\\r\\n    -- get current time\\r\\n    --\\r\\n    select @curutcdate = getutcdate()\\r\\n    --\\r\\n    -- Enumerate the primary entries\\r\\n    --\\r\\n    declare #hcprimaries cursor local fast_forward for\\r\\n        select\\r\\n            primary_id\\r\\n            ,primary_server\\r\\n            ,primary_database\\r\\n            ,backup_threshold\\r\\n            ,threshold_alert_enabled\\r\\n            ,last_backup_file\\r\\n            ,last_backup_date_utc\\r\\n        from msdb.dbo.log_shipping_monitor_primary with (nolock)\\r\\n        order by primary_server, primary_database\\r\\n\\r\\n    open #hcprimaries\\r\\n    fetch #hcprimaries into @primary_id, @primary_server, @primary_database, @backup_threshold, @is_backup_alert_enabled, @last_backup_file, @last_backup_utc\\r\\n    while (@@fetch_status != -1)\\r\\n    begin\\r\\n        --\\r\\n        -- we have a primary entry\\r\\n        --\\r\\n        select @time_since_last_backup = datediff(minute, @last_backup_utc, @curutcdate)\\r\\n        insert into #log_shipping_monitor (\\r\\n            status\\r\\n            ,is_primary\\r\\n            ,server\\r\\n            ,database_name\\r\\n            ,time_since_last_backup\\r\\n            ,last_backup_file\\r\\n            ,backup_threshold\\r\\n            ,is_backup_alert_enabled)\\r\\n        values (\\r\\n            case when ( @time_since_last_backup &gt; @backup_threshold) then 1 else 0 end\\r\\n            ,1\\r\\n            ,@primary_server\\r\\n            ,@primary_database\\r\\n            ,@time_since_last_backup\\r\\n            ,@last_backup_file\\r\\n            ,@backup_threshold\\r\\n            ,@is_backup_alert_enabled)\\r\\n        --\\r\\n        -- process secondaries\\r\\n        --\\r\\n        if (upper(@primary_server) = upper(@@servername))\\r\\n        begin\\r\\n            --\\r\\n            -- we are on primary server\\r\\n            -- get monitor server information\\r\\n            --\\r\\n            select @monitor_server = monitor_server\\r\\n                        ,@monitor_server_security_mode = monitor_server_security_mode\\r\\n            from msdb.dbo.log_shipping_primary_databases\\r\\n            where primary_id = @primary_id\\r\\n            select @is_monitor_local = case when (upper(@monitor_server) = upper(@@servername)) then 1 else 0 end\\r\\n            --\\r\\n            -- enumerate the secondaries listed on primary\\r\\n            --\\r\\n            declare #hcprimarysecondaries cursor local fast_forward for\\r\\n                select secondary_server, secondary_database\\r\\n                from msdb.dbo.log_shipping_primary_secondaries with (nolock)\\r\\n                where primary_id = @primary_id\\r\\n\\r\\n            open #hcprimarysecondaries\\r\\n            fetch #hcprimarysecondaries into @secondary_server, @secondary_database\\r\\n            while (@@fetch_status != -1)\\r\\n            begin\\r\\n                --\\r\\n                -- add this primary secondary to result set\\r\\n                --\\r\\n                insert into #log_shipping_monitor (is_primary ,server, database_name)\\r\\n                    values (0, @secondary_server, @secondary_database)\\r\\n                select @secondary_id = NULL\\r\\n                --\\r\\n                -- Enumerate this secondary from msdb.dbo.log_shipping_monitor_secondary\\r\\n                --\\r\\n                if (@is_monitor_local = 1)\\r\\n                begin\\r\\n                    --\\r\\n                    -- local monitor\\r\\n                    --\\r\\n                    select\\r\\n                        @secondary_id = secondary_id\\r\\n                        ,@restore_threshold = restore_threshold\\r\\n                        ,@is_restore_alert_enabled = threshold_alert_enabled\\r\\n                        ,@last_copied_file = last_copied_file\\r\\n                        ,@last_copied_utc = last_copied_date_utc\\r\\n                        ,@last_restored_file = last_restored_file\\r\\n                        ,@last_restored_utc = last_restored_date_utc\\r\\n                        ,@last_restored_latency = last_restored_latency\\r\\n                    from msdb.dbo.log_shipping_monitor_secondary\\r\\n                    where primary_server = upper(@primary_server)\\r\\n                        and primary_database = @primary_database\\r\\n                        and secondary_server = upper(@secondary_server)\\r\\n                        and secondary_database = @secondary_database\\r\\n                end -- local monitor\\r\\n                else\\r\\n                begin\\r\\n                    --\\r\\n                    -- remote monitor\\r\\n                    --\\r\\n                    if (@monitor_server_security_mode = 0) and (suser_name() != SUSER_SNAME(0x01))\\r\\n                    begin\\r\\n                        --\\r\\n                        -- execute as proxy\\r\\n                        --\\r\\n                        exec @retcode = sys.sp_MSproxylogshippingmonitorhelpsecondary\\r\\n                                @monitor_server = @monitor_server\\r\\n                                ,@p1 = @primary_server\\r\\n                                ,@p2 = @primary_database\\r\\n                                ,@p3 = @secondary_server\\r\\n                                ,@p4 = @secondary_database\\r\\n                                ,@p5 = @secondary_id output\\r\\n                                ,@p6 = @restore_threshold output\\r\\n                                ,@p7 = @is_restore_alert_enabled output\\r\\n                                ,@p8 = @last_copied_file output\\r\\n                                ,@p9 = @last_copied_utc output\\r\\n                                ,@p10 = @last_restored_file output\\r\\n                                ,@p11 = @last_restored_utc output\\r\\n                                ,@p12 = @last_restored_latency output\\r\\n                    end\\r\\n                    else\\r\\n                    begin\\r\\n                        delete #secondary_monitor\\r\\n                        select @linkcmd = quotename(sys.fn_MSgetlogshippingmoniterlinkname(upper(@monitor_server))) + N'.master.sys.sp_help_log_shipping_monitor_secondary '\\r\\n                                ,@retcode = 0\\r\\n                        begin try\\r\\n                            insert into #secondary_monitor\\r\\n                            exec @retcode = @linkcmd\\r\\n                                        @secondary_server = @secondary_server\\r\\n                                        ,@secondary_database = @secondary_database\\r\\n                        end try\\r\\n                        begin catch\\r\\n                            select @retcode = 1\\r\\n                                    ,@secondary_id = NULL\\r\\n                        end catch\\r\\n\\r\\n                        if (@retcode = 0)\\r\\n                        begin\\r\\n                            select @secondary_id = secondary_id\\r\\n                                    ,@restore_threshold = restore_threshold\\r\\n                                    ,@is_restore_alert_enabled = threshold_alert_enabled\\r\\n                                    ,@last_copied_file = last_copied_file\\r\\n                                    ,@last_copied_utc = last_copied_date_utc\\r\\n                                    ,@last_restored_file = last_restored_file\\r\\n                                    ,@last_restored_utc = last_restored_date_utc\\r\\n                                    ,@last_restored_latency = last_restored_latency\\r\\n                            from #secondary_monitor\\r\\n                            where upper(primary_server) = upper(@primary_server)\\r\\n                                and primary_database = @primary_database\\r\\n                        end\\r\\n                        else\\r\\n                        begin\\r\\n                            raiserror(32031, 10, 1, @secondary_server, @secondary_database, @monitor_server)\\r\\n                        end\\r\\n                    end\\r\\n                end -- remote monitor\\r\\n                --\\r\\n                -- do we have data on this secondary\\r\\n                --\\r\\n                if (@secondary_id is not null)\\r\\n                begin\\r\\n                    --\\r\\n                    -- yes we do - update the entry\\r\\n                    --\\r\\n                    select @time_since_last_copy = datediff(minute, @last_copied_utc, @curutcdate)\\r\\n                            ,@time_since_last_restore = datediff(minute, @last_restored_utc, @curutcdate)\\r\\n                    update #log_shipping_monitor\\r\\n                    set\\r\\n                        status = case when (@time_since_last_restore &gt; @restore_threshold or @last_restored_latency &gt; @restore_threshold) then 1 else 0 end\\r\\n                        ,time_since_last_copy = @time_since_last_copy\\r\\n                        ,last_copied_file = @last_copied_file\\r\\n                        ,time_since_last_restore = @time_since_last_restore\\r\\n                        ,last_restored_file = @last_restored_file\\r\\n                        ,last_restored_latency = @last_restored_latency\\r\\n                        ,restore_threshold = @restore_threshold\\r\\n                        ,is_restore_alert_enabled = @is_restore_alert_enabled\\r\\n                    where upper(server) = upper(@secondary_server)\\r\\n                        and database_name = @secondary_database\\r\\n                end -- update secondary data\\r\\n                --\\r\\n                -- fetch next primary secondary\\r\\n                --\\r\\n                fetch #hcprimarysecondaries into @secondary_server, @secondary_database\\r\\n            end\\r\\n            close #hcprimarysecondaries\\r\\n            deallocate #hcprimarysecondaries\\r\\n        end -- we are on primary server processing primaries\\r\\n        else\\r\\n        begin\\r\\n            --\\r\\n            -- we are on monitor server\\r\\n            -- get details of the secondaries from msdb.dbo.log_shipping_monitor_secondary\\r\\n            -- if the same monitor is being used by secondaries\\r\\n            --\\r\\n            insert into #log_shipping_monitor (\\r\\n                status\\r\\n                ,is_primary\\r\\n                ,server\\r\\n                ,database_name\\r\\n                ,time_since_last_copy\\r\\n                ,last_copied_file\\r\\n                ,time_since_last_restore\\r\\n                ,last_restored_file\\r\\n                ,last_restored_latency\\r\\n                ,restore_threshold\\r\\n                ,is_restore_alert_enabled)\\r\\n            select\\r\\n                case when (datediff(minute, last_restored_date_utc, @curutcdate) &gt; restore_threshold\\r\\n                                        or last_restored_latency &gt; restore_threshold) then 1 else 0 end\\r\\n                ,0\\r\\n                ,secondary_server\\r\\n                ,secondary_database\\r\\n                ,datediff(minute, last_copied_date_utc, @curutcdate)\\r\\n                ,last_copied_file\\r\\n                ,datediff(minute, last_restored_date_utc, @curutcdate)\\r\\n                ,last_restored_file\\r\\n                ,last_restored_latency\\r\\n                ,restore_threshold\\r\\n                ,threshold_alert_enabled\\r\\n            from msdb.dbo.log_shipping_monitor_secondary with (nolock)\\r\\n            where primary_server = upper(@primary_server)\\r\\n                and primary_database = @primary_database\\r\\n\\r\\n        end -- we are on monitor server processing primaries\\r\\n        fetch #hcprimaries into @primary_id, @primary_server, @primary_database, @backup_threshold, @is_backup_alert_enabled, @last_backup_file, @last_backup_utc\\r\\n    end -- while cursor for hcprimaries\\r\\n    close #hcprimaries\\r\\n    deallocate #hcprimaries\\r\\n    --\\r\\n    -- Enumerate the secondary entries\\r\\n    -- minus existing secondary entries in resultset\\r\\n    --\\r\\n    declare #hcsecondaries cursor local fast_forward for\\r\\n        select\\r\\n            secondary_server\\r\\n            ,secondary_database\\r\\n            ,secondary_id uniqueidentifier\\r\\n            ,primary_server\\r\\n            ,primary_database\\r\\n            ,restore_threshold\\r\\n            ,threshold_alert_enabled\\r\\n            ,last_copied_file\\r\\n            ,last_copied_date_utc\\r\\n            ,last_restored_file\\r\\n            ,last_restored_date_utc\\r\\n            ,last_restored_latency\\r\\n        from msdb.dbo.log_shipping_monitor_secondary with (nolock)\\r\\n        where not exists (select * from #log_shipping_monitor\\r\\n                                where upper(server) = upper(secondary_server)\\r\\n                                    and database_name = secondary_database\\r\\n                                    and is_primary = 0)\\r\\n        order by primary_server, primary_database\\r\\n\\r\\n    open #hcsecondaries\\r\\n    fetch #hcsecondaries into @secondary_server, @secondary_database, @secondary_id,\\r\\n                @primary_server, @primary_database, @restore_threshold, @is_restore_alert_enabled,\\r\\n                @last_copied_file, @last_copied_utc, @last_restored_file, @last_restored_utc, @last_restored_latency\\r\\n    while (@@fetch_status != -1)\\r\\n    begin\\r\\n        --\\r\\n        -- Have we processed the primary for this secondary\\r\\n        --\\r\\n        if not (upper(@primary_server) = upper(@prev_primary_server)\\r\\n            and @primary_database = @prev_primary_database)\\r\\n        begin\\r\\n            --\\r\\n            -- No - Try to get the details of this primary\\r\\n            --\\r\\n            select @primary_id = null\\r\\n            if (upper(@secondary_server) = upper(@@servername))\\r\\n            begin\\r\\n                --\\r\\n                -- we are on secondary\\r\\n                -- get monitor server information\\r\\n                --\\r\\n                select @monitor_server = monitor_server\\r\\n                        ,@monitor_server_security_mode = monitor_server_security_mode\\r\\n                from msdb.dbo.log_shipping_secondary with (nolock)\\r\\n                where secondary_id = @secondary_id\\r\\n                select @is_monitor_local = case when (upper(@monitor_server) = upper(@@servername)) then 1 else 0 end\\r\\n                if (@is_monitor_local = 1)\\r\\n                begin\\r\\n                    --\\r\\n                    -- local monitor\\r\\n                    --\\r\\n                    select @primary_id = primary_id\\r\\n                        ,@backup_threshold = backup_threshold\\r\\n                        ,@is_backup_alert_enabled = threshold_alert_enabled\\r\\n                        ,@last_backup_file = last_backup_file\\r\\n                        ,@last_backup_utc = last_backup_date_utc\\r\\n                    from msdb.dbo.log_shipping_monitor_primary with (nolock)\\r\\n                    where primary_server = upper(@primary_server)\\r\\n                        and primary_database = @primary_database\\r\\n                end\\r\\n                else\\r\\n                begin\\r\\n                    --\\r\\n                    -- remote monitor\\r\\n                    --\\r\\n                    if (@monitor_server_security_mode = 0) and (suser_name() != SUSER_SNAME(0x01))\\r\\n                    begin\\r\\n                        --\\r\\n                        -- execute as proxy\\r\\n                        --\\r\\n                        exec @retcode = sys.sp_MSproxylogshippingmonitorhelpprimary\\r\\n                                @monitor_server = @monitor_server\\r\\n                                ,@p1 = @primary_server\\r\\n                                ,@p2 = @primary_database\\r\\n                                ,@p3 = @primary_id output\\r\\n                                ,@p4 = @backup_threshold output\\r\\n                                ,@p5 = @is_backup_alert_enabled output\\r\\n                                ,@p6 = @last_backup_file output\\r\\n                                ,@p7 = @last_backup_utc output\\r\\n                    end\\r\\n                    else\\r\\n                    begin\\r\\n                        delete #primary_monitor\\r\\n                        select @linkcmd = quotename(sys.fn_MSgetlogshippingmoniterlinkname(upper(@monitor_server))) + N'.master.sys.sp_help_log_shipping_monitor_primary '\\r\\n                                ,@retcode = 0\\r\\n                        begin try\\r\\n                            insert into #primary_monitor\\r\\n                            exec @retcode = @linkcmd\\r\\n                                        @primary_server = @primary_server\\r\\n                                        ,@primary_database = @primary_database\\r\\n                        end try\\r\\n                        begin catch\\r\\n                            select @retcode = 1\\r\\n                                    ,@primary_id = NULL\\r\\n                        end catch\\r\\n\\r\\n                        if (@retcode = 0)\\r\\n                        begin\\r\\n                            select @primary_id = primary_id\\r\\n                                    ,@backup_threshold = backup_threshold\\r\\n                                    ,@is_backup_alert_enabled = threshold_alert_enabled\\r\\n                                    ,@last_backup_file = last_backup_file\\r\\n                                    ,@last_backup_utc = last_backup_date_utc\\r\\n                            from #primary_monitor\\r\\n                        end\\r\\n                        else\\r\\n                        begin\\r\\n                            raiserror(32030, 10, 1, @primary_server, @primary_database, @monitor_server)\\r\\n                        end\\r\\n                    end -- processing remote\\r\\n                end\\r\\n            end -- processing on secondary\\r\\n            else\\r\\n            begin\\r\\n                --\\r\\n                -- we are on monitor server\\r\\n                --\\r\\n                select @primary_id = primary_id\\r\\n                    ,@backup_threshold = backup_threshold\\r\\n                    ,@is_backup_alert_enabled = threshold_alert_enabled\\r\\n                    ,@last_backup_file = last_backup_file\\r\\n                    ,@last_backup_utc = last_backup_date_utc\\r\\n                from msdb.dbo.log_shipping_monitor_primary with (nolock)\\r\\n                where primary_server = upper(@primary_server)\\r\\n                    and primary_database = @primary_database\\r\\n            end -- processing on monitor server\\r\\n            --\\r\\n            -- insert primary details if available\\r\\n            --\\r\\n            if (@primary_id is not null)\\r\\n            begin\\r\\n                select @prev_primary_server = @primary_server\\r\\n                        ,@prev_primary_database = @primary_database\\r\\n                        ,@time_since_last_backup = datediff(minute, @last_backup_utc, @curutcdate)\\r\\n                insert into #log_shipping_monitor (\\r\\n                    status\\r\\n                    ,is_primary\\r\\n                    ,server\\r\\n                    ,database_name\\r\\n                    ,time_since_last_backup\\r\\n                    ,last_backup_file\\r\\n                    ,backup_threshold\\r\\n                    ,is_backup_alert_enabled)\\r\\n                values (\\r\\n                    case when ( @time_since_last_backup &gt; @backup_threshold) then 1 else 0 end\\r\\n                    ,1\\r\\n                    ,@primary_server\\r\\n                    ,@primary_database\\r\\n                    ,@time_since_last_backup\\r\\n                    ,@last_backup_file\\r\\n                    ,@backup_threshold\\r\\n                    ,@is_backup_alert_enabled)\\r\\n            end -- primary data available\\r\\n        end -- process the primary\\r\\n        --\\r\\n        -- Insert the secondary\\r\\n        --\\r\\n        select @time_since_last_copy = datediff(minute, @last_copied_utc, @curutcdate)\\r\\n                ,@time_since_last_restore = datediff(minute, @last_restored_utc, @curutcdate)\\r\\n        insert into #log_shipping_monitor (\\r\\n            status\\r\\n            ,is_primary\\r\\n            ,server\\r\\n            ,database_name\\r\\n            ,time_since_last_copy\\r\\n            ,last_copied_file\\r\\n            ,time_since_last_restore\\r\\n            ,last_restored_file\\r\\n            ,last_restored_latency\\r\\n            ,restore_threshold\\r\\n            ,is_restore_alert_enabled)\\r\\n        values (\\r\\n            case when (@time_since_last_restore &gt; @restore_threshold or @last_restored_latency &gt; @restore_threshold) then 1 else 0 end\\r\\n            ,0\\r\\n            ,@secondary_server\\r\\n            ,@secondary_database\\r\\n            ,@time_since_last_copy\\r\\n            ,@last_copied_file\\r\\n            ,@time_since_last_restore\\r\\n            ,@last_restored_file\\r\\n            ,@last_restored_latency\\r\\n            ,@restore_threshold\\r\\n            ,@is_restore_alert_enabled)\\r\\n        --\\r\\n        -- get the next secondary\\r\\n        --\\r\\n        fetch #hcsecondaries into @secondary_server, @secondary_database, @secondary_id,\\r\\n                    @primary_server, @primary_database, @restore_threshold, @is_restore_alert_enabled,\\r\\n                    @last_copied_file, @last_copied_utc, @last_restored_file, @last_restored_utc, @last_restored_latency\\r\\n    end -- while cursor for hcsecondaries\\r\\n    close #hcsecondaries\\r\\n    deallocate #hcsecondaries\\r\\n    --\\r\\n    -- return resultset\\r\\n    --\\r\\n    select\\r\\n        status\\r\\n        ,is_primary\\r\\n        ,server\\r\\n        ,database_name\\r\\n        ,time_since_last_backup\\r\\n        ,last_backup_file\\r\\n        ,backup_threshold\\r\\n        ,is_backup_alert_enabled\\r\\n        ,time_since_last_copy\\r\\n        ,last_copied_file\\r\\n        ,time_since_last_restore\\r\\n        ,last_restored_file\\r\\n        ,last_restored_latency\\r\\n        ,restore_threshold\\r\\n        ,is_restore_alert_enabled\\r\\n    from #log_shipping_monitor\\r\\n    order by ts\\r\\n    --\\r\\n    -- all done\\r\\n    --\\r\\n    return 0\\r\\nend\\r\\n</td>\n",
      "      <td>0</td>\n",
      "      <td>0</td>\n",
      "      <td>1</td>\n",
      "      <td>62</td>\n",
      "      <td>62</td>\n",
      "      <td>62</td>\n",
      "      <td>0</td>\n",
      "      <td>2022-02-03 11:18:49.737</td>\n",
      "      <td>None</td>\n",
      "      <td>2022-02-03 11:18:49.960</td>\n",
      "    </tr>\n",
      "    <tr>\n",
      "      <td>None</td>\n",
      "      <td>\\n                  SELECT CASE transaction_isolation_level\\n                    WHEN 0 THEN NULL\\n                    WHEN 1 THEN 'READ UNCOMMITTED'\\n                    WHEN 2 THEN 'READ COMMITTED'\\n                    WHEN 3 THEN 'REPEATABLE READ'\\n                    WHEN 4 THEN 'SERIALIZABLE'\\n                    WHEN 5 THEN 'SNAPSHOT' END AS TRANSACTION_ISOLATION_LEVEL\\n                    FROM sys.dm_exec_sessions\\n                    where session_id = @@SPID\\n</td>\n",
      "      <td>0</td>\n",
      "      <td>0</td>\n",
      "      <td>1</td>\n",
      "      <td>47</td>\n",
      "      <td>47</td>\n",
      "      <td>48</td>\n",
      "      <td>0</td>\n",
      "      <td>2022-02-03 11:18:49.430</td>\n",
      "      <td>None</td>\n",
      "      <td>2022-02-03 11:18:49.430</td>\n",
      "    </tr>\n",
      "    <tr>\n",
      "      <td>None</td>\n",
      "      <td>\\n                SELECT CASE agent_type WHEN 1 THEN 'Backup' WHEN 2 THEN 'Copy' WHEN 3 THEN 'Restore' END as agent_type, * \\n                from msdb..log_shipping_monitor_error_detail\\n</td>\n",
      "      <td>0</td>\n",
      "      <td>0</td>\n",
      "      <td>1</td>\n",
      "      <td>44</td>\n",
      "      <td>44</td>\n",
      "      <td>44</td>\n",
      "      <td>0</td>\n",
      "      <td>2022-02-03 11:18:49.987</td>\n",
      "      <td>None</td>\n",
      "      <td>2022-02-03 11:18:49.987</td>\n",
      "    </tr>\n",
      "  </tbody>\n",
      "</table>\n",
      "            </body>\n",
      "        </html>\n",
      "        \n"
     ]
    }
   ],
   "metadata": {}
  },
  {
   "cell_type": "code",
   "execution_count": 1,
   "source": [
    "import newSendemail\r\n",
    "newSendemail.sendEmail(['jamiu'])"
   ],
   "outputs": [
    {
     "output_type": "stream",
     "name": "stdout",
     "text": [
      "There is an error  (421, b'Server busy, too many connections')\n",
      "The value of password everliveth95@\n"
     ]
    }
   ],
   "metadata": {}
  },
  {
   "cell_type": "code",
   "execution_count": null,
   "source": [
    "import DatabaseConfig\r\n",
    "\r\n",
    "string = DatabaseConfig[0]"
   ],
   "outputs": [],
   "metadata": {}
  },
  {
   "cell_type": "code",
   "execution_count": null,
   "source": [],
   "outputs": [],
   "metadata": {}
  }
 ],
 "metadata": {
  "interpreter": {
   "hash": "57baa5815c940fdaff4d14510622de9616cae602444507ba5d0b6727c008cbd6"
  },
  "kernelspec": {
   "name": "python3",
   "display_name": "Python 3.7.8 64-bit"
  },
  "language_info": {
   "codemirror_mode": {
    "name": "ipython",
    "version": 3
   },
   "file_extension": ".py",
   "mimetype": "text/x-python",
   "name": "python",
   "nbconvert_exporter": "python",
   "pygments_lexer": "ipython3",
   "version": "3.7.8"
  },
  "orig_nbformat": 4
 },
 "nbformat": 4,
 "nbformat_minor": 2
}